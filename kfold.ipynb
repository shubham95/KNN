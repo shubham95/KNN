{
 "cells": [
  {
   "cell_type": "markdown",
   "metadata": {},
   "source": [
    "# K fold Validation Code"
   ]
  },
  {
   "cell_type": "code",
   "execution_count": 1,
   "metadata": {},
   "outputs": [
    {
     "name": "stderr",
     "output_type": "stream",
     "text": [
      "C:\\ProgramData\\Anaconda3\\lib\\site-packages\\sklearn\\cross_validation.py:41: DeprecationWarning: This module was deprecated in version 0.18 in favor of the model_selection module into which all the refactored classes and functions are moved. Also note that the interface of the new CV iterators are different from that of this module. This module will be removed in 0.20.\n",
      "  \"This module will be removed in 0.20.\", DeprecationWarning)\n"
     ]
    }
   ],
   "source": [
    "import numpy as np\n",
    "import pandas as pd\n",
    "import matplotlib.pyplot as plt\n",
    "from sklearn.cross_validation import train_test_split\n",
    "from sklearn.neighbors import KNeighborsClassifier\n",
    "from sklearn.metrics import accuracy_score\n",
    "from sklearn.cross_validation import cross_val_score\n",
    "from collections import Counter\n",
    "from sklearn import cross_validation"
   ]
  },
  {
   "cell_type": "code",
   "execution_count": 13,
   "metadata": {},
   "outputs": [
    {
     "name": "stdout",
     "output_type": "stream",
     "text": [
      "          x         y  class\n",
      "0  0.700335 -0.247068    0.0\n",
      "1 -3.950019  2.740080    1.0\n",
      "2  0.150222 -2.157638    1.0\n",
      "3 -1.672050 -0.941519    1.0\n",
      "4  2.560483 -1.846577    1.0\n"
     ]
    }
   ],
   "source": [
    "#define column names\n",
    "names = ['x' , 'y' , 'class']\n",
    "# define column names\n",
    "\n",
    "#Loading training data\n",
    "df= pd.read_csv('./demo_data/3.concertriccir2.csv',header= None , names = names)\n",
    "print(df.head())\n",
    "\n",
    "# create design matrix X and target vector y\n",
    "X = np.array(df.iloc[:,0:4]) # end index is exclusive\n",
    "y = np.array(df['class']) # showing you two ways of indexing a pandas df"
   ]
  },
  {
   "cell_type": "markdown",
   "metadata": {},
   "source": [
    "# Simple Cross Validation"
   ]
  },
  {
   "cell_type": "code",
   "execution_count": 18,
   "metadata": {},
   "outputs": [],
   "source": [
    "# split the data set into train and test\n",
    "X_1, X_test , y_1, y_test = cross_validation.train_test_split(X,y,test_size=0.3,random_state=0)"
   ]
  },
  {
   "cell_type": "code",
   "execution_count": 20,
   "metadata": {},
   "outputs": [],
   "source": [
    "# split the train data set into cross validation train and cross validation test\n",
    "X_tr,X_cv,y_tr,y_cv = cross_validation.train_test_split(X_1,y_1, test_size=0.3)"
   ]
  },
  {
   "cell_type": "code",
   "execution_count": 22,
   "metadata": {},
   "outputs": [
    {
     "name": "stdout",
     "output_type": "stream",
     "text": [
      "\n",
      "CV accuracy for k = 1 is 100%\n",
      "\n",
      "CV accuracy for k = 3 is 100%\n",
      "\n",
      "CV accuracy for k = 5 is 100%\n",
      "\n",
      "CV accuracy for k = 7 is 100%\n",
      "\n",
      "CV accuracy for k = 9 is 100%\n",
      "\n",
      "CV accuracy for k = 11 is 100%\n",
      "\n",
      "CV accuracy for k = 13 is 99%\n",
      "\n",
      "CV accuracy for k = 15 is 98%\n",
      "\n",
      "CV accuracy for k = 17 is 97%\n",
      "\n",
      "CV accuracy for k = 19 is 95%\n",
      "\n",
      "CV accuracy for k = 21 is 91%\n",
      "\n",
      "CV accuracy for k = 23 is 89%\n",
      "\n",
      "CV accuracy for k = 25 is 88%\n",
      "\n",
      "CV accuracy for k = 27 is 87%\n",
      "\n",
      "CV accuracy for k = 29 is 85%\n"
     ]
    }
   ],
   "source": [
    "for i in range(1,30,2):\n",
    "    # instantiate learning model (k = 30)\n",
    "    knn = KNeighborsClassifier(n_neighbors=i)\n",
    "    \n",
    "    # fitting the model on crossvalidation train\n",
    "    knn.fit(X_tr,y_tr)\n",
    "    # predict the response on thecrossvalidation train\n",
    "    pred = knn.predict(X_cv)\n",
    "    \n",
    "    # evaluate CV accuracy\n",
    "    acc = accuracy_score(y_cv,pred,normalize=True)*float(100)\n",
    "    print('\\nCV accuracy for k = %d is %d%%' % (i, acc))"
   ]
  },
  {
   "cell_type": "markdown",
   "metadata": {},
   "source": [
    "# Now 10 fold cross Validation"
   ]
  },
  {
   "cell_type": "code",
   "execution_count": 31,
   "metadata": {},
   "outputs": [
    {
     "name": "stdout",
     "output_type": "stream",
     "text": [
      "\n",
      "The optimal number of neighbors is 1.\n"
     ]
    },
    {
     "data": {
      "image/png": "[encoded data removed]",
      "text/plain": [
       "<matplotlib.figure.Figure at 0x4549f07240>"
      ]
     },
     "metadata": {},
     "output_type": "display_data"
    },
    {
     "name": "stdout",
     "output_type": "stream",
     "text": [
      "the misclassification error for each k value is :  [ 0.     0.     0.     0.     0.     0.     0.003  0.011  0.025  0.037\n",
      "  0.043  0.051  0.083  0.097  0.114  0.137  0.151  0.166  0.183  0.2    0.203\n",
      "  0.223  0.243  0.246  0.28 ]\n"
     ]
    }
   ],
   "source": [
    "# creating odd list of K for knn\n",
    "mylist = list(range(0,50))\n",
    "neighbors = list(filter(lambda x: x%2!=0,mylist))\n",
    "\n",
    "\n",
    "# empty list that will hold cv scores\n",
    "cv_scores =[]\n",
    "\n",
    "# empty list that will hold cv scores\n",
    "cv_scores = []\n",
    "\n",
    "# perform 10-fold cross validation\n",
    "\n",
    "for k in neighbors:\n",
    "    knn = KNeighborsClassifier(n_neighbors=k)\n",
    "    scores = cross_val_score(knn, X_1, y_1, cv=10, scoring='accuracy')\n",
    "    cv_scores.append(scores.mean())\n",
    "\n",
    "\n",
    "#changing to misclassification error\n",
    "MSE = [1- x for x in cv_scores]\n",
    "\n",
    "# determinig best k\n",
    "optimal_k = neighbors[MSE.index(min(MSE))]\n",
    "print('\\nThe optimal number of neighbors is %d.' % optimal_k)\n",
    "\n",
    "# plot misclassification error vs k\n",
    "plt.plot(neighbors, MSE)\n",
    "\n",
    "for xy in zip(neighbors, np.round(MSE,3)):\n",
    "    plt.annotate('(%s, %s)' % xy,xy=xy, textcoords='data')\n",
    "    \n",
    "plt.xlabel('Number of Neighbors K')\n",
    "plt.ylabel('Mis')\n",
    "plt.show()\n",
    "\n",
    "print(\"the misclassification error for each k value is : \",np.round(MSE,3))\n"
   ]
  },
  {
   "cell_type": "code",
   "execution_count": 32,
   "metadata": {},
   "outputs": [
    {
     "name": "stdout",
     "output_type": "stream",
     "text": [
      "\n",
      "Theaccuracy of the knn classifier for k= 1 is 99.333333%\n"
     ]
    }
   ],
   "source": [
    "# instantiate Learning model k= optimal_k\n",
    "knn_optimal = KNeighborsClassifier(n_neighbors=optimal_k)\n",
    "\n",
    "# fitting the model\n",
    "knn_optimal.fit(X_1,y_1)\n",
    "#predict the response\n",
    "pred = knn_optimal.predict(X_test)\n",
    "\n",
    "# evaluate accuracy\n",
    "acc= accuracy_score(y_test, pred) * 100\n",
    "print('\\nTheaccuracy of the knn classifier for k= %d is %f%%' % (optimal_k, acc))"
   ]
  },
  {
   "cell_type": "code",
   "execution_count": null,
   "metadata": {
    "collapsed": true
   },
   "outputs": [],
   "source": []
  }
 ],
 "metadata": {
  "kernelspec": {
   "display_name": "Python 3",
   "language": "python",
   "name": "python3"
  },
  "language_info": {
   "codemirror_mode": {
    "name": "ipython",
    "version": 3
   },
   "file_extension": ".py",
   "mimetype": "text/x-python",
   "name": "python",
   "nbconvert_exporter": "python",
   "pygments_lexer": "ipython3",
   "version": "3.6.3"
  }
 },
 "nbformat": 4,
 "nbformat_minor": 2
}
